{
 "cells": [
  {
   "cell_type": "markdown",
   "metadata": {
    "colab_type": "text",
    "id": "fj93_nN2wPV1"
   },
   "source": [
    "![alt text](http://1.bp.blogspot.com/-nqAGzznZQNo/UwS8rxjfXeI/AAAAAAAABTA/nunmRLowpps/s1600/PraxisLogo.gif)\n",
    "\n",
    "![alt text](https://licensebuttons.net/l/by-sa/3.0/88x31.png)\n",
    "\n",
    "\n",
    "---\n",
    "\n",
    "Prithwis Mukerjee"
   ]
  },
  {
   "cell_type": "code",
   "execution_count": 1,
   "metadata": {
    "colab": {},
    "colab_type": "code",
    "id": "7ClRT_Ari2Ys"
   },
   "outputs": [],
   "source": [
    "from pyspark.sql import SparkSession\n",
    "spark = SparkSession.builder.master(\"local[*]\").getOrCreate()"
   ]
  },
  {
   "cell_type": "code",
   "execution_count": 2,
   "metadata": {
    "colab": {},
    "colab_type": "code",
    "id": "931FrA2jfeXf"
   },
   "outputs": [],
   "source": [
    "sc = spark.sparkContext"
   ]
  },
  {
   "cell_type": "code",
   "execution_count": 3,
   "metadata": {
    "colab": {
     "base_uri": "https://localhost:8080/",
     "height": 194
    },
    "colab_type": "code",
    "id": "vsSE4GKBiwf1",
    "outputId": "f093f8c8-7319-49fb-90d4-13d54d38e9dc"
   },
   "outputs": [
    {
     "data": {
      "text/html": [
       "\n",
       "        <div>\n",
       "            <p><b>SparkContext</b></p>\n",
       "\n",
       "            <p><a href=\"http://f27ec44a9e85:4041\">Spark UI</a></p>\n",
       "\n",
       "            <dl>\n",
       "              <dt>Version</dt>\n",
       "                <dd><code>v2.4.3</code></dd>\n",
       "              <dt>Master</dt>\n",
       "                <dd><code>local[*]</code></dd>\n",
       "              <dt>AppName</dt>\n",
       "                <dd><code>pyspark-shell</code></dd>\n",
       "            </dl>\n",
       "        </div>\n",
       "        "
      ],
      "text/plain": [
       "<SparkContext master=local[*] appName=pyspark-shell>"
      ]
     },
     "execution_count": 3,
     "metadata": {},
     "output_type": "execute_result"
    }
   ],
   "source": [
    "sc"
   ]
  },
  {
   "cell_type": "code",
   "execution_count": 4,
   "metadata": {
    "colab": {
     "base_uri": "https://localhost:8080/",
     "height": 123
    },
    "colab_type": "code",
    "id": "dWWam7Wnjx_O",
    "outputId": "0f94988d-4ccd-48da-a700-caae18e45a00"
   },
   "outputs": [
    {
     "name": "stdout",
     "output_type": "stream",
     "text": [
      "total 44\r\n",
      "-rw-rw-r-- 1 jovyan  1000   215 May 31 05:05 hobbit.txt\r\n",
      "-rw-r--r-- 1 jovyan users  2744 Jun 21 01:25 SparkTest.ipynb\r\n",
      "-rw-rw-r-- 1 jovyan  1000 34828 Jun 21 01:25 sparkWordCount_V2.ipynb\r\n"
     ]
    }
   ],
   "source": [
    "!ls -l"
   ]
  },
  {
   "cell_type": "code",
   "execution_count": 5,
   "metadata": {
    "colab": {},
    "colab_type": "code",
    "id": "7cetfRq2hToE"
   },
   "outputs": [],
   "source": [
    "textRDD = sc.textFile(\"hobbit.txt\")\n",
    "#textRDD = spark.read.text('hobbit.txt').rdd\n",
    "# for an explanation of the alternate way to read text files\n",
    "# see this https://stackoverflow.com/questions/52665353/reading-a-text-file-in-spark/52669632#52669632"
   ]
  },
  {
   "cell_type": "code",
   "execution_count": 6,
   "metadata": {
    "colab": {
     "base_uri": "https://localhost:8080/",
     "height": 54
    },
    "colab_type": "code",
    "id": "JiDK866KhToY",
    "outputId": "7f3b0b4c-05ad-4fa1-d263-d1a87f949320"
   },
   "outputs": [
    {
     "name": "stdout",
     "output_type": "stream",
     "text": [
      "hobbit.txt MapPartitionsRDD[1] at textFile at NativeMethodAccessorImpl.java:0\n"
     ]
    }
   ],
   "source": [
    "print (textRDD)"
   ]
  },
  {
   "cell_type": "code",
   "execution_count": 7,
   "metadata": {
    "colab": {
     "base_uri": "https://localhost:8080/",
     "height": 68
    },
    "colab_type": "code",
    "id": "ylf23XX_o3m2",
    "outputId": "5b62d077-cd78-4935-a425-2446c82cb885"
   },
   "outputs": [
    {
     "data": {
      "text/plain": [
       "['the king beneath the mountain',\n",
       " 'the king of carven stone',\n",
       " 'the lord of silver fountain']"
      ]
     },
     "execution_count": 7,
     "metadata": {},
     "output_type": "execute_result"
    }
   ],
   "source": [
    "textRDD.take(3)"
   ]
  },
  {
   "cell_type": "markdown",
   "metadata": {
    "colab_type": "text",
    "id": "_2HO3H2WkkDC"
   },
   "source": [
    "# Process"
   ]
  },
  {
   "cell_type": "code",
   "execution_count": 8,
   "metadata": {
    "colab": {},
    "colab_type": "code",
    "id": "QAvPRM1-kqJo"
   },
   "outputs": [],
   "source": [
    "from operator import add"
   ]
  },
  {
   "cell_type": "code",
   "execution_count": 9,
   "metadata": {
    "colab": {},
    "colab_type": "code",
    "id": "69Np0nEJhTpK"
   },
   "outputs": [],
   "source": [
    "#def tokenize1(textz):\n",
    "#    return textz.value.split()\n",
    "def tokenize2(textz):\n",
    "    return textz.split()"
   ]
  },
  {
   "cell_type": "code",
   "execution_count": 10,
   "metadata": {
    "colab": {},
    "colab_type": "code",
    "id": "B7fP_I0OhTpa"
   },
   "outputs": [],
   "source": [
    "wordsRDD = textRDD.flatMap(tokenize2)"
   ]
  },
  {
   "cell_type": "code",
   "execution_count": 0,
   "metadata": {
    "colab": {
     "base_uri": "https://localhost:8080/",
     "height": 291
    },
    "colab_type": "code",
    "id": "Jl9ogplR7EGW",
    "outputId": "822bd255-c65b-439c-f115-2ea1dad025a8"
   },
   "outputs": [
    {
     "name": "stdout",
     "output_type": "stream",
     "text": [
      "PythonRDD[3] at RDD at PythonRDD.scala:53\n"
     ]
    },
    {
     "data": {
      "text/plain": [
       "['the',\n",
       " 'king',\n",
       " 'beneath',\n",
       " 'the',\n",
       " 'mountain',\n",
       " 'the',\n",
       " 'king',\n",
       " 'of',\n",
       " 'carven',\n",
       " 'stone',\n",
       " 'the',\n",
       " 'lord',\n",
       " 'of',\n",
       " 'silver',\n",
       " 'fountain']"
      ]
     },
     "execution_count": 14,
     "metadata": {
      "tags": []
     },
     "output_type": "execute_result"
    }
   ],
   "source": [
    "print(wordsRDD)\n",
    "wordsRDD.take(15)"
   ]
  },
  {
   "cell_type": "code",
   "execution_count": 0,
   "metadata": {
    "colab": {},
    "colab_type": "code",
    "id": "Ac8Rb_Uiooqs"
   },
   "outputs": [],
   "source": [
    "#wordsRDD.collect()"
   ]
  },
  {
   "cell_type": "code",
   "execution_count": 0,
   "metadata": {
    "colab": {},
    "colab_type": "code",
    "id": "yMCcwZrxhTp8"
   },
   "outputs": [],
   "source": [
    "wc = wordsRDD.map(lambda x: (x,1))"
   ]
  },
  {
   "cell_type": "code",
   "execution_count": 0,
   "metadata": {
    "colab": {},
    "colab_type": "code",
    "id": "S3qbQGoyhTqQ"
   },
   "outputs": [],
   "source": [
    "#print (wc.toDebugString())"
   ]
  },
  {
   "cell_type": "code",
   "execution_count": 0,
   "metadata": {
    "colab": {},
    "colab_type": "code",
    "id": "UcIoomB-hTqi"
   },
   "outputs": [],
   "source": [
    "counts = wc.reduceByKey(add)"
   ]
  },
  {
   "cell_type": "code",
   "execution_count": 0,
   "metadata": {
    "colab": {
     "base_uri": "https://localhost:8080/",
     "height": 51
    },
    "colab_type": "code",
    "id": "_9ODw1hXhTq8",
    "outputId": "1838a3ac-bd2d-4ad9-d906-ffdd82f1a482"
   },
   "outputs": [
    {
     "name": "stdout",
     "output_type": "stream",
     "text": [
      "hobbit-Out2  sample_data\t\tspark-2.4.3-bin-hadoop2.7.tgz\n",
      "hobbit.txt   spark-2.4.3-bin-hadoop2.7\n"
     ]
    }
   ],
   "source": [
    "!ls"
   ]
  },
  {
   "cell_type": "code",
   "execution_count": 0,
   "metadata": {
    "colab": {
     "base_uri": "https://localhost:8080/",
     "height": 34
    },
    "colab_type": "code",
    "id": "5683u2uKhTrU",
    "outputId": "ae96a49e-ff5d-45bc-fa3f-a7bde0455caf"
   },
   "outputs": [
    {
     "name": "stdout",
     "output_type": "stream",
     "text": [
      "rm: cannot remove 'hobbit-Out': No such file or directory\n"
     ]
    }
   ],
   "source": [
    "!rm -r hobbit-Out"
   ]
  },
  {
   "cell_type": "code",
   "execution_count": 0,
   "metadata": {
    "colab": {},
    "colab_type": "code",
    "id": "Wydu9UDDhTro"
   },
   "outputs": [],
   "source": [
    "counts.saveAsTextFile(\"hobbit-Out2\")\n",
    "#counts.collect()"
   ]
  },
  {
   "cell_type": "markdown",
   "metadata": {
    "colab_type": "text",
    "id": "G9QnYzQBmqC6"
   },
   "source": [
    "# Data Download"
   ]
  },
  {
   "cell_type": "code",
   "execution_count": 0,
   "metadata": {
    "colab": {
     "base_uri": "https://localhost:8080/",
     "height": 34
    },
    "colab_type": "code",
    "id": "7ac3dQ2VmYda",
    "outputId": "f76f8773-fb6a-4e54-f93e-6ae7c7e84dab"
   },
   "outputs": [
    {
     "name": "stdout",
     "output_type": "stream",
     "text": [
      "part-00000  part-00001\t_SUCCESS\n"
     ]
    }
   ],
   "source": [
    "#!ls hobbit-Out\n",
    "!ls hobbit-Out2"
   ]
  },
  {
   "cell_type": "code",
   "execution_count": 0,
   "metadata": {
    "colab": {
     "base_uri": "https://localhost:8080/",
     "height": 223
    },
    "colab_type": "code",
    "id": "qMkcg01rnBR8",
    "outputId": "e0705c1f-fca1-4a31-f1ae-b193830e0a1f"
   },
   "outputs": [
    {
     "name": "stdout",
     "output_type": "stream",
     "text": [
      "('the', 4)\n",
      "('mountain', 1)\n",
      "('carven', 1)\n",
      "('lord', 1)\n",
      "('shall', 4)\n",
      "('come', 1)\n",
      "('unto', 1)\n",
      "('be', 2)\n",
      "('golden', 1)\n",
      "('to', 1)\n",
      "('songs', 1)\n",
      "('yore', 1)\n"
     ]
    }
   ],
   "source": [
    "#!cat hobbit-Out/part-00001\n",
    "!cat hobbit-Out2/part-00001"
   ]
  },
  {
   "cell_type": "code",
   "execution_count": 0,
   "metadata": {
    "colab": {},
    "colab_type": "code",
    "id": "smdrOXSTiSPp"
   },
   "outputs": [],
   "source": [
    "from google.colab import files"
   ]
  },
  {
   "cell_type": "code",
   "execution_count": 0,
   "metadata": {
    "colab": {},
    "colab_type": "code",
    "id": "0nZcQeS1hTuy"
   },
   "outputs": [],
   "source": [
    "files.download(\"hobbit-Out2/part-00000\")"
   ]
  }
 ],
 "metadata": {
  "colab": {
   "name": "sparkWordCount_V2",
   "provenance": [],
   "version": "0.3.2"
  },
  "kernelspec": {
   "display_name": "Python 3",
   "language": "python",
   "name": "python3"
  },
  "language_info": {
   "codemirror_mode": {
    "name": "ipython",
    "version": 3
   },
   "file_extension": ".py",
   "mimetype": "text/x-python",
   "name": "python",
   "nbconvert_exporter": "python",
   "pygments_lexer": "ipython3",
   "version": "3.7.3"
  }
 },
 "nbformat": 4,
 "nbformat_minor": 1
}
